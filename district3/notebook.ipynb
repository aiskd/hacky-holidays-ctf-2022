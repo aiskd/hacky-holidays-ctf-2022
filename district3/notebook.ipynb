{
 "cells": [
  {
   "cell_type": "code",
   "execution_count": 4,
   "metadata": {},
   "outputs": [
    {
     "name": "stdout",
     "output_type": "stream",
     "text": [
      "\u000b\n"
     ]
    }
   ],
   "source": [
    "print(chr((0x13 - 5)^5))"
   ]
  },
  {
   "cell_type": "code",
   "execution_count": 35,
   "metadata": {},
   "outputs": [
    {
     "name": "stdout",
     "output_type": "stream",
     "text": [
      "4949\n",
      "\u0013U\n"
     ]
    }
   ],
   "source": [
    "x ='\\x13U'\n",
    "x = bytes(x, 'utf-8')\n",
    "print(int.from_bytes(x, \"big\"))\n",
    "print(x.decode(\"utf-8\"))"
   ]
  }
 ],
 "metadata": {
  "kernelspec": {
   "display_name": "Python 3.9.6 64-bit",
   "language": "python",
   "name": "python3"
  },
  "language_info": {
   "codemirror_mode": {
    "name": "ipython",
    "version": 3
   },
   "file_extension": ".py",
   "mimetype": "text/x-python",
   "name": "python",
   "nbconvert_exporter": "python",
   "pygments_lexer": "ipython3",
   "version": "3.9.6"
  },
  "orig_nbformat": 4,
  "vscode": {
   "interpreter": {
    "hash": "004a4017f226627c3f6fabb54bfd5f5cff66f920801e271afc87183b8b56e0e2"
   }
  }
 },
 "nbformat": 4,
 "nbformat_minor": 2
}
