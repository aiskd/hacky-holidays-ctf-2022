{
 "cells": [
  {
   "cell_type": "code",
   "execution_count": 4,
   "metadata": {},
   "outputs": [],
   "source": [
    "import websocket"
   ]
  },
  {
   "cell_type": "code",
   "execution_count": 2,
   "metadata": {},
   "outputs": [],
   "source": [
    "LEVEL = 3\n",
    "PREV_FLAG = \"CTF{capt41n-h00k!}\""
   ]
  },
  {
   "cell_type": "code",
   "execution_count": 3,
   "metadata": {},
   "outputs": [],
   "source": [
    "GAME_START = { \"type\": \"START_GAME\", \"level\": LEVEL, \"password\": PREV_FLAG }\n",
    "URL = \"wss://3acca90731734e08041fdd3367c215a0.challenge.hackazon.org/ws\""
   ]
  }
 ],
 "metadata": {
  "kernelspec": {
   "display_name": "Python 3.9.6 64-bit",
   "language": "python",
   "name": "python3"
  },
  "language_info": {
   "codemirror_mode": {
    "name": "ipython",
    "version": 3
   },
   "file_extension": ".py",
   "mimetype": "text/x-python",
   "name": "python",
   "nbconvert_exporter": "python",
   "pygments_lexer": "ipython3",
   "version": "3.9.6"
  },
  "orig_nbformat": 4,
  "vscode": {
   "interpreter": {
    "hash": "004a4017f226627c3f6fabb54bfd5f5cff66f920801e271afc87183b8b56e0e2"
   }
  }
 },
 "nbformat": 4,
 "nbformat_minor": 2
}
